{
 "metadata": {
  "language_info": {
   "codemirror_mode": {
    "name": "ipython",
    "version": 3
   },
   "file_extension": ".py",
   "mimetype": "text/x-python",
   "name": "python",
   "nbconvert_exporter": "python",
   "pygments_lexer": "ipython3",
   "version": "3.8.3-final"
  },
  "orig_nbformat": 2,
  "kernelspec": {
   "name": "python3",
   "display_name": "Python 3.8.3 64-bit (conda)",
   "metadata": {
    "interpreter": {
     "hash": "b49af92716124a3dcdffffc9745ca4adb6a99ad9a5084f8f6ea1cee1a8d52ff7"
    }
   }
  }
 },
 "nbformat": 4,
 "nbformat_minor": 2,
 "cells": [
  {
   "cell_type": "code",
   "execution_count": 2,
   "metadata": {},
   "outputs": [
    {
     "output_type": "execute_result",
     "data": {
      "text/plain": [
       "       Fixed Acidity  Volatile Acidity  Citric Acid  Residual Sugar  \\\n",
       "count    4871.000000       4871.000000  4871.000000     4871.000000   \n",
       "mean        6.851375          0.277631     0.333082        6.347208   \n",
       "std         0.842965          0.099986     0.117052        4.946691   \n",
       "min         3.800000          0.080000     0.000000        0.600000   \n",
       "25%         6.300000          0.210000     0.270000        1.700000   \n",
       "50%         6.800000          0.260000     0.320000        5.200000   \n",
       "75%         7.300000          0.320000     0.390000        9.800000   \n",
       "max        14.200000          1.100000     0.990000       23.500000   \n",
       "\n",
       "         Chlorides  Free Sulfur Dioxide  Total Sulfur Dioxide      Density  \\\n",
       "count  4871.000000          4871.000000           4871.000000  4871.000000   \n",
       "mean      0.045489            35.152433            137.908951     0.993998   \n",
       "std       0.020322            16.362965             41.684581     0.002893   \n",
       "min       0.009000             2.000000              9.000000     0.987110   \n",
       "25%       0.036000            23.000000            108.000000     0.991715   \n",
       "50%       0.043000            34.000000            134.000000     0.993700   \n",
       "75%       0.050000            46.000000            167.000000     0.996100   \n",
       "max       0.244000           124.000000            260.000000     1.002400   \n",
       "\n",
       "                pH    Sulphates      Alcohol      Quality  \\\n",
       "count  4871.000000  4871.000000  4871.000000  4871.000000   \n",
       "mean      3.188292     0.489752    10.515639     5.881749   \n",
       "std       0.150974     0.114176     1.230599     0.883558   \n",
       "min       2.720000     0.220000     8.000000     3.000000   \n",
       "25%       3.090000     0.410000     9.500000     5.000000   \n",
       "50%       3.180000     0.470000    10.400000     6.000000   \n",
       "75%       3.280000     0.550000    11.400000     6.000000   \n",
       "max       3.820000     1.080000    14.200000     9.000000   \n",
       "\n",
       "       Quality Factor Numeric  \n",
       "count             4871.000000  \n",
       "mean                 0.883802  \n",
       "std                  0.733509  \n",
       "min                  0.000000  \n",
       "25%                  0.000000  \n",
       "50%                  1.000000  \n",
       "75%                  1.000000  \n",
       "max                  2.000000  "
      ],
      "text/html": "<div>\n<style scoped>\n    .dataframe tbody tr th:only-of-type {\n        vertical-align: middle;\n    }\n\n    .dataframe tbody tr th {\n        vertical-align: top;\n    }\n\n    .dataframe thead th {\n        text-align: right;\n    }\n</style>\n<table border=\"1\" class=\"dataframe\">\n  <thead>\n    <tr style=\"text-align: right;\">\n      <th></th>\n      <th>Fixed Acidity</th>\n      <th>Volatile Acidity</th>\n      <th>Citric Acid</th>\n      <th>Residual Sugar</th>\n      <th>Chlorides</th>\n      <th>Free Sulfur Dioxide</th>\n      <th>Total Sulfur Dioxide</th>\n      <th>Density</th>\n      <th>pH</th>\n      <th>Sulphates</th>\n      <th>Alcohol</th>\n      <th>Quality</th>\n      <th>Quality Factor Numeric</th>\n    </tr>\n  </thead>\n  <tbody>\n    <tr>\n      <th>count</th>\n      <td>4871.000000</td>\n      <td>4871.000000</td>\n      <td>4871.000000</td>\n      <td>4871.000000</td>\n      <td>4871.000000</td>\n      <td>4871.000000</td>\n      <td>4871.000000</td>\n      <td>4871.000000</td>\n      <td>4871.000000</td>\n      <td>4871.000000</td>\n      <td>4871.000000</td>\n      <td>4871.000000</td>\n      <td>4871.000000</td>\n    </tr>\n    <tr>\n      <th>mean</th>\n      <td>6.851375</td>\n      <td>0.277631</td>\n      <td>0.333082</td>\n      <td>6.347208</td>\n      <td>0.045489</td>\n      <td>35.152433</td>\n      <td>137.908951</td>\n      <td>0.993998</td>\n      <td>3.188292</td>\n      <td>0.489752</td>\n      <td>10.515639</td>\n      <td>5.881749</td>\n      <td>0.883802</td>\n    </tr>\n    <tr>\n      <th>std</th>\n      <td>0.842965</td>\n      <td>0.099986</td>\n      <td>0.117052</td>\n      <td>4.946691</td>\n      <td>0.020322</td>\n      <td>16.362965</td>\n      <td>41.684581</td>\n      <td>0.002893</td>\n      <td>0.150974</td>\n      <td>0.114176</td>\n      <td>1.230599</td>\n      <td>0.883558</td>\n      <td>0.733509</td>\n    </tr>\n    <tr>\n      <th>min</th>\n      <td>3.800000</td>\n      <td>0.080000</td>\n      <td>0.000000</td>\n      <td>0.600000</td>\n      <td>0.009000</td>\n      <td>2.000000</td>\n      <td>9.000000</td>\n      <td>0.987110</td>\n      <td>2.720000</td>\n      <td>0.220000</td>\n      <td>8.000000</td>\n      <td>3.000000</td>\n      <td>0.000000</td>\n    </tr>\n    <tr>\n      <th>25%</th>\n      <td>6.300000</td>\n      <td>0.210000</td>\n      <td>0.270000</td>\n      <td>1.700000</td>\n      <td>0.036000</td>\n      <td>23.000000</td>\n      <td>108.000000</td>\n      <td>0.991715</td>\n      <td>3.090000</td>\n      <td>0.410000</td>\n      <td>9.500000</td>\n      <td>5.000000</td>\n      <td>0.000000</td>\n    </tr>\n    <tr>\n      <th>50%</th>\n      <td>6.800000</td>\n      <td>0.260000</td>\n      <td>0.320000</td>\n      <td>5.200000</td>\n      <td>0.043000</td>\n      <td>34.000000</td>\n      <td>134.000000</td>\n      <td>0.993700</td>\n      <td>3.180000</td>\n      <td>0.470000</td>\n      <td>10.400000</td>\n      <td>6.000000</td>\n      <td>1.000000</td>\n    </tr>\n    <tr>\n      <th>75%</th>\n      <td>7.300000</td>\n      <td>0.320000</td>\n      <td>0.390000</td>\n      <td>9.800000</td>\n      <td>0.050000</td>\n      <td>46.000000</td>\n      <td>167.000000</td>\n      <td>0.996100</td>\n      <td>3.280000</td>\n      <td>0.550000</td>\n      <td>11.400000</td>\n      <td>6.000000</td>\n      <td>1.000000</td>\n    </tr>\n    <tr>\n      <th>max</th>\n      <td>14.200000</td>\n      <td>1.100000</td>\n      <td>0.990000</td>\n      <td>23.500000</td>\n      <td>0.244000</td>\n      <td>124.000000</td>\n      <td>260.000000</td>\n      <td>1.002400</td>\n      <td>3.820000</td>\n      <td>1.080000</td>\n      <td>14.200000</td>\n      <td>9.000000</td>\n      <td>2.000000</td>\n    </tr>\n  </tbody>\n</table>\n</div>"
     },
     "metadata": {},
     "execution_count": 2
    }
   ],
   "source": [
    "## MAIN WINE QUALITY FRAME\n",
    "\n",
    "import pandas as pd, numpy as np\n",
    "\n",
    "## Import raw data\n",
    "df_white = pd.read_csv('raw/winequality-white.csv', sep = ';')\n",
    "df_red = pd.read_csv('raw/winequality-red.csv', sep = ';')\n",
    "\n",
    "## Removing outliers\n",
    "def remove_outliers(df, columns, qtile):\n",
    "    def df_cutter(df, column, qtile):\n",
    "        limit = df.loc[:, column].quantile(qtile)\n",
    "        return df.loc[df[column] < limit, ]\n",
    "    for col in columns:\n",
    "        name = df.columns[col]\n",
    "        df = df_cutter(df, name, qtile)\n",
    "    return df\n",
    "\n",
    "df_white = remove_outliers(df_white, [2,4,5,6, 7], 0.999)\n",
    "df_red = remove_outliers(df_red, [3,4,6,9, 7], 0.999)\n",
    "\n",
    "df_white['wine'] = 'white'\n",
    "df_red['wine'] = 'red'\n",
    "\n",
    "## Merging dataframes\n",
    "wine_quality = pd.concat([df_red, df_white])\n",
    "\n",
    "## Adding relative quality column\n",
    "wine_quality['quality factor'] = wine_quality['quality'].apply(lambda x: 'Below Average' if x < 6 else ('Above Average' if x > 6 else 'Average'))\n",
    "\n",
    "## Adding numeric version of the realtive quality columns\n",
    "wine_quality['quality factor numeric'] = wine_quality['quality factor'].apply(lambda x: 0 if x=='Below Average' else (1 if x=='Average' else 2))\n",
    "\n",
    "\n",
    "## Reorder Columns so Wine [-3] comes first\n",
    "cols = wine_quality.columns.to_list()\n",
    "cols = [cols[-3]] + cols[:-3] + cols[-2:]\n",
    "wine_quality = wine_quality[cols]\n",
    "\n",
    "## Capitalize columns\n",
    "wine_quality.columns = map(str.title, wine_quality.columns)\n",
    "wine_quality = wine_quality.rename(columns={'Ph': 'pH'})\n",
    "\n",
    "## Export\n",
    "wine_quality.to_csv('processed_python/wine_quality.csv', index=False)\n",
    "\n",
    "## Test import\n",
    "imported_df = pd.read_csv('processed_python/wine_quality.csv')\n",
    "\n",
    "imported_df.loc[imported_df.Wine == 'white', ].describe()\n"
   ]
  },
  {
   "cell_type": "code",
   "execution_count": 5,
   "metadata": {},
   "outputs": [
    {
     "output_type": "execute_result",
     "data": {
      "text/plain": [
       "         level_0           level_1      corr   Wine  Quality Factor\n",
       "0  Fixed Acidity     Fixed Acidity  1.000000  white               3\n",
       "1  Fixed Acidity  Volatile Acidity -0.047202  white               3\n",
       "2  Fixed Acidity       Citric Acid  0.290753  white               3\n",
       "3  Fixed Acidity    Residual Sugar  0.084902  white               3\n",
       "4  Fixed Acidity         Chlorides  0.091888  white               3"
      ],
      "text/html": "<div>\n<style scoped>\n    .dataframe tbody tr th:only-of-type {\n        vertical-align: middle;\n    }\n\n    .dataframe tbody tr th {\n        vertical-align: top;\n    }\n\n    .dataframe thead th {\n        text-align: right;\n    }\n</style>\n<table border=\"1\" class=\"dataframe\">\n  <thead>\n    <tr style=\"text-align: right;\">\n      <th></th>\n      <th>level_0</th>\n      <th>level_1</th>\n      <th>corr</th>\n      <th>Wine</th>\n      <th>Quality Factor</th>\n    </tr>\n  </thead>\n  <tbody>\n    <tr>\n      <th>0</th>\n      <td>Fixed Acidity</td>\n      <td>Fixed Acidity</td>\n      <td>1.000000</td>\n      <td>white</td>\n      <td>3</td>\n    </tr>\n    <tr>\n      <th>1</th>\n      <td>Fixed Acidity</td>\n      <td>Volatile Acidity</td>\n      <td>-0.047202</td>\n      <td>white</td>\n      <td>3</td>\n    </tr>\n    <tr>\n      <th>2</th>\n      <td>Fixed Acidity</td>\n      <td>Citric Acid</td>\n      <td>0.290753</td>\n      <td>white</td>\n      <td>3</td>\n    </tr>\n    <tr>\n      <th>3</th>\n      <td>Fixed Acidity</td>\n      <td>Residual Sugar</td>\n      <td>0.084902</td>\n      <td>white</td>\n      <td>3</td>\n    </tr>\n    <tr>\n      <th>4</th>\n      <td>Fixed Acidity</td>\n      <td>Chlorides</td>\n      <td>0.091888</td>\n      <td>white</td>\n      <td>3</td>\n    </tr>\n  </tbody>\n</table>\n</div>"
     },
     "metadata": {},
     "execution_count": 5
    }
   ],
   "source": [
    "## CORRELATION PLOT DATA EXPORT\n",
    "\n",
    "wine = wine_quality #This is the naming convention I had in my work and didn't want to change it\n",
    "\n",
    "# Get correlations for each wine type\n",
    "corr_df_white = wine.loc[wine['Wine'] == 'white'].select_dtypes('number').corr('spearman').stack().reset_index(name='corr')\n",
    "corr_df_white[\"Wine\"] = \"white\"\n",
    "\n",
    "corr_df_red = wine.loc[wine['Wine'] == 'red'].select_dtypes('number').corr('spearman').stack().reset_index(name='corr')\n",
    "corr_df_red[\"Wine\"] = \"red\"\n",
    "\n",
    "# Bind them together\n",
    "corr_df = corr_df_white.append(corr_df_red)\n",
    "corr_df[\"Quality Factor\"] = 3 # For all qualities\n",
    "\n",
    "# Subset by quality and for each and bind\n",
    "for i in [0,1,2]:\n",
    "    #Create white df at ith quality\n",
    "    corr_df_white = wine.loc[(wine['Wine'] == 'white') & (wine[\"Quality Factor\"] == i)].select_dtypes('number').corr('spearman').stack().reset_index(name='corr')\n",
    "    corr_df_white[\"Wine\"] = \"white\"\n",
    "    corr_df_white[\"Quality Factor\"] = i\n",
    "    #create red df at ith quality\n",
    "    corr_df_red = wine.loc[(wine['Wine'] == 'red') & (wine[\"Quality Factor\"] == i)].select_dtypes('number').corr('spearman').stack().reset_index(name='corr')\n",
    "    corr_df_red[\"Wine\"] = \"red\"\n",
    "    corr_df_red[\"Quality Factor\"] = i\n",
    "    # bind to main df\n",
    "    corr_df = corr_df.append(corr_df_red)\n",
    "    corr_df = corr_df.append(corr_df_white)\n",
    "\n",
    "\n",
    "corr_df.to_csv('processed_python/correlation.csv', index=False)\n",
    "\n",
    "## Test import\n",
    "pd.read_csv('processed_python/correlation.csv').head()\n"
   ]
  },
  {
   "cell_type": "code",
   "execution_count": null,
   "metadata": {},
   "outputs": [],
   "source": []
  }
 ]
}